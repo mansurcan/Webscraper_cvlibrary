{
 "cells": [
  {
   "cell_type": "code",
   "execution_count": 10,
   "metadata": {},
   "outputs": [],
   "source": [
    "from selenium import webdriver\n",
    "from bs4 import BeautifulSoup\n",
    "import time\n",
    "import pandas as pd\n",
    "import requests"
   ]
  },
  {
   "cell_type": "code",
   "execution_count": 62,
   "metadata": {},
   "outputs": [],
   "source": [
    "url = \"https://www.cv-library.co.uk/job/217175803\""
   ]
  },
  {
   "cell_type": "code",
   "execution_count": 63,
   "metadata": {},
   "outputs": [],
   "source": [
    "page = requests.get(url)"
   ]
  },
  {
   "cell_type": "code",
   "execution_count": 64,
   "metadata": {},
   "outputs": [],
   "source": [
    "soup = BeautifulSoup(page.content,'html5lib')"
   ]
  },
  {
   "cell_type": "code",
   "execution_count": 72,
   "metadata": {},
   "outputs": [
    {
     "data": {
      "text/plain": [
       "\"Train to be an Ethical Hacker  Whether youâ€™re looking to start a new career in Ethical Hacking or Cyber Security, or accelerate an existing one, Hatch can support you at any stage of your career journey through our award-winning learning pathways coupled with dedicated career and employment support. This Cyber Security course is designed to get you role-ready if youâ€™re considering a career in Ethical Hacking. This is a training course which leads to employment opportunities upon completion. Fees apply.  Cyber-attacks increased by 31% in 2021 when compared with the previous year in a trend that continues to rise. As a result, the global demand for skilled cyber security professionals has never been greater, as organisations gear-up to protect themselves against increasing cyber-threats.  Ethical Hacking involves an authorised attempt to gain unauthorised access to a computer system, application, or data. This helps to find vulnerabilities.  Through this course you will gain:    CompTIA Network+ Develop your competencies in troubleshooting, configuring, and managing common network wireless and wired devices.  CompTIA Security+ Validate your baseline skills to perform core security functions by monitoring and diagnosing networks, understanding malware, vulnerabilities, and threats to network.  CompTIA CySa+ (Cyber Security Analyst) The further validates your skills and furthers your understanding of vulnerability management, threat management, security architecture, counter hacking skills and techniques  CompTIA PenTest+ (Penetration Testing) This gives you the expertise in information gathering, vulnerability identification, attacks and exploits, penetration testing tools and skills and finally information reporting   Upon completion of your course, youâ€™ll benefit from our unbridled career support, including:  Opportunity Audit: We'll start by cross-referencing your skills with live opportunities we have through our academy sponsors and employer partnerships.  CV-Support: This includes CV templating if required and a thorough review to ensure yours stands out in this industry we know best.  Interview Preparation: Your expert mentor will work with you via phone, video chat or e-mail to support your interview preparation and make sure you feel fully prepared on the day.  Ongoing Job Alerts: Your dedicated Career Support Officer will keep an eye on the market and match you with any live roles that suit your skills, experience, and career ambitions.  Click apply now for further information.\""
      ]
     },
     "execution_count": 72,
     "metadata": {},
     "output_type": "execute_result"
    }
   ],
   "source": [
    "job_description = soup.findAll(attrs={'class': 'premium-description'})[0].text.replace('\\n', ' ')\n",
    "job_description"
   ]
  },
  {
   "cell_type": "code",
   "execution_count": 73,
   "metadata": {},
   "outputs": [
    {
     "data": {
      "text/plain": [
       "'                 Trainee Ethical Hacker course                 Posted by Hatch                 Nationwide                              '"
      ]
     },
     "execution_count": 73,
     "metadata": {},
     "output_type": "execute_result"
    }
   ],
   "source": [
    "job_title = soup.findAll(attrs={'class': 'hatch-job-details-left'})[0].text.replace('\\n', ' ')\n",
    "job_title "
   ]
  },
  {
   "cell_type": "code",
   "execution_count": 74,
   "metadata": {},
   "outputs": [
    {
     "data": {
      "text/plain": [
       "'                            Featured job                            Quick apply                            Learn to earn                    '"
      ]
     },
     "execution_count": 74,
     "metadata": {},
     "output_type": "execute_result"
    }
   ],
   "source": [
    "job_type = soup.findAll(attrs={'class': 'job__icons'})[0].text\n",
    "job_type"
   ]
  },
  {
   "cell_type": "code",
   "execution_count": 76,
   "metadata": {},
   "outputs": [
    {
     "data": {
      "text/plain": [
       "'                 Trainee Ethical Hacker course                  - Expiring soon!             '"
      ]
     },
     "execution_count": 76,
     "metadata": {},
     "output_type": "execute_result"
    }
   ],
   "source": [
    "job_location = soup.findAll(attrs={'class': 'job__details-value'})[0].text.replace('\\n', ' ')\n",
    "job_location"
   ]
  },
  {
   "cell_type": "code",
   "execution_count": 77,
   "metadata": {},
   "outputs": [
    {
     "data": {
      "text/plain": [
       "'Nationwide'"
      ]
     },
     "execution_count": 77,
     "metadata": {},
     "output_type": "execute_result"
    }
   ],
   "source": [
    "job_salary = soup.findAll(attrs={'class': 'job__details-value'})[1].text.replace('Â', ' ')\n",
    "job_salary"
   ]
  },
  {
   "cell_type": "code",
   "execution_count": 79,
   "metadata": {},
   "outputs": [
    {
     "data": {
      "text/plain": [
       "'              '"
      ]
     },
     "execution_count": 79,
     "metadata": {},
     "output_type": "execute_result"
    }
   ],
   "source": [
    "company_posted = soup.findAll(attrs={'class': 'hatch-header-image'})[0].text.replace('\\n', ' ')\n",
    "company_posted"
   ]
  },
  {
   "cell_type": "code",
   "execution_count": 84,
   "metadata": {},
   "outputs": [
    {
     "data": {
      "text/plain": [
       "[[\"Train to be an Ethical Hacker  Whether youâ€™re looking to start a new career in Ethical Hacking or Cyber Security, or accelerate an existing one, Hatch can support you at any stage of your career journey through our award-winning learning pathways coupled with dedicated career and employment support. This Cyber Security course is designed to get you role-ready if youâ€™re considering a career in Ethical Hacking. This is a training course which leads to employment opportunities upon completion. Fees apply.  Cyber-attacks increased by 31% in 2021 when compared with the previous year in a trend that continues to rise. As a result, the global demand for skilled cyber security professionals has never been greater, as organisations gear-up to protect themselves against increasing cyber-threats.  Ethical Hacking involves an authorised attempt to gain unauthorised access to a computer system, application, or data. This helps to find vulnerabilities.  Through this course you will gain:    CompTIA Network+ Develop your competencies in troubleshooting, configuring, and managing common network wireless and wired devices.  CompTIA Security+ Validate your baseline skills to perform core security functions by monitoring and diagnosing networks, understanding malware, vulnerabilities, and threats to network.  CompTIA CySa+ (Cyber Security Analyst) The further validates your skills and furthers your understanding of vulnerability management, threat management, security architecture, counter hacking skills and techniques  CompTIA PenTest+ (Penetration Testing) This gives you the expertise in information gathering, vulnerability identification, attacks and exploits, penetration testing tools and skills and finally information reporting   Upon completion of your course, youâ€™ll benefit from our unbridled career support, including:  Opportunity Audit: We'll start by cross-referencing your skills with live opportunities we have through our academy sponsors and employer partnerships.  CV-Support: This includes CV templating if required and a thorough review to ensure yours stands out in this industry we know best.  Interview Preparation: Your expert mentor will work with you via phone, video chat or e-mail to support your interview preparation and make sure you feel fully prepared on the day.  Ongoing Job Alerts: Your dedicated Career Support Officer will keep an eye on the market and match you with any live roles that suit your skills, experience, and career ambitions.  Click apply now for further information.\",\n",
       "  '                 Trainee Ethical Hacker course                 Posted by Hatch                 Nationwide                              ',\n",
       "  '                            Featured job                            Quick apply                            Learn to earn                    ',\n",
       "  '\\n                Trainee Ethical Hacker course\\n                 - Expiring soon!\\n            ',\n",
       "  'Nationwide',\n",
       "  '              ']]"
      ]
     },
     "execution_count": 84,
     "metadata": {},
     "output_type": "execute_result"
    }
   ],
   "source": [
    "data = [[job_description,job_title,job_type,job_location,job_salary,company_posted]]\n",
    "data"
   ]
  },
  {
   "cell_type": "code",
   "execution_count": 85,
   "metadata": {},
   "outputs": [],
   "source": [
    "df = pd.DataFrame(data, columns=['job_description', 'job_title','job_type', 'job_location', 'job_salary', 'company_posted' ])"
   ]
  },
  {
   "cell_type": "code",
   "execution_count": 86,
   "metadata": {},
   "outputs": [
    {
     "name": "stdout",
     "output_type": "stream",
     "text": [
      "URL not found 217175790\n",
      "URL not found 217175791\n",
      "URL not found 217175792\n",
      "URL not found 217175793\n",
      "URL not found 217175794\n",
      "URL not found 217175795\n",
      "URL not found 217175796\n",
      "URL not found 217175797\n",
      "URL not found 217175798\n",
      "URL not found 217175799\n",
      "URL not found 217175800\n",
      "URL not found 217175801\n",
      "URL not found 217175802\n",
      "Data fetched successfully 217175803\n",
      "URL not found 217175804\n",
      "URL not found 217175805\n"
     ]
    }
   ],
   "source": [
    "for job_code in range(217175790,217175806):\n",
    "    url = \"https://www.cv-library.co.uk/job/\" + str(job_code) #217,175,806\n",
    "    page = requests.get(url)\n",
    "    if(page.status_code == 200):\n",
    "        print(\"Data fetched successfully\", job_code)\n",
    "        soup = BeautifulSoup(page.content, \"html5lib\")\n",
    "        job_description = soup.findAll(attrs={'class': 'premium-description'})[0].text.replace('\\n', ' ')\n",
    "        job_title = soup.findAll(attrs={'class': 'hatch-job-details-left'})[0].text.replace('\\n', ' ')\n",
    "        job_type = soup.findAll(attrs={'class': 'job__icons'})[0].text\n",
    "        job_location = soup.findAll(attrs={'class': 'job__details-value'})[0].text\n",
    "        job_salary = soup.findAll(attrs={'class': 'job__details-value'})[1].text.replace('Â', ' ')\n",
    "        company_posted = soup.findAll(attrs={'class': 'hatch-header-image'})[0].text.replace('\\n', ' ')\n",
    "        data.insert(job_code,[job_description, job_title, job_type, job_location, job_salary, company_posted])\n",
    "    else:\n",
    "        print('URL not found', job_code)\n",
    "df = pd.DataFrame(data, columns=['job_description', 'job_title','job_type', 'job_location', 'job_salary', 'company_posted' ])\n",
    "df.to_csv('cvlibrary.csv')"
   ]
  }
 ],
 "metadata": {
  "kernelspec": {
   "display_name": "Python 3.10.8 64-bit (microsoft store)",
   "language": "python",
   "name": "python3"
  },
  "language_info": {
   "codemirror_mode": {
    "name": "ipython",
    "version": 3
   },
   "file_extension": ".py",
   "mimetype": "text/x-python",
   "name": "python",
   "nbconvert_exporter": "python",
   "pygments_lexer": "ipython3",
   "version": "3.10.8"
  },
  "orig_nbformat": 4,
  "vscode": {
   "interpreter": {
    "hash": "49aad2bd87ae2b75a7128b6185dd86a6de2d2ceb0f55ac1e47b1d4bdbaa425eb"
   }
  }
 },
 "nbformat": 4,
 "nbformat_minor": 2
}
